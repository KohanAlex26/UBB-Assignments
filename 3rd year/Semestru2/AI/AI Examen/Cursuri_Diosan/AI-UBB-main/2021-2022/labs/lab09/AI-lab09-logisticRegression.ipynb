{
 "cells": [
  {
   "cell_type": "markdown",
   "source": [
    "# Probleme de clasificare <img src=\"images/binClassification.png\" width=\"150\">\r\n"
   ],
   "metadata": {}
  },
  {
   "cell_type": "markdown",
   "source": [
    "## Obiective\r\n",
    "* rezolvarea unei probleme de clasificare binara\r\n",
    "* rezolvarea unei probleme de clasificare multi-clasa redusa la mai multe probleme de clasificare bianra (*one vs. all*)\r\n",
    "* folosirea unor algoritmi liniari de regresie logistica (folosirea functie $sigmoid$)\r\n",
    "* normalizarea datelor (atributelor datelor)\r\n",
    "\r\n",
    "## Cuvinte cheie:\r\n",
    "* date de antrenare si date de testare \r\n",
    "* atribute/catacteristici ale datelor\r\n",
    "* etichete ale datelor\r\n",
    "* normalizare date \r\n",
    "* model de clasificare liniar\r\n",
    "* acuratetea, precizia si rapelul clasificarii"
   ],
   "metadata": {}
  },
  {
   "cell_type": "markdown",
   "source": [
    "## Aspecte teoretice"
   ],
   "metadata": {}
  },
  {
   "cell_type": "markdown",
   "source": [
    "Problemele de clasificare sunt asemanatoare celor de regresie (pe baza unor caracteristici a datelor se doreste prezicearea unor valori asociate acestor date), doar ca $outputurile$ sunt de tip discrete (etichete ale calselor din care face parte fiecare data de intrare).\r\n",
    "\r\n",
    "### Exemple de probleme de clasificare:\r\n",
    "* etichetarea unui mesaj ca $spam$ sau $normal$ (clasificare binara)\r\n",
    "* etichetarea unei tumori ca $benigna$ sau $maligna$ (clasificare binara)\r\n",
    "* etichetarea unei fete ca $vesela$, $trista$ sau $furioasa$ (clasificare multi-clasa)\r\n"
   ],
   "metadata": {}
  },
  {
   "cell_type": "markdown",
   "source": [
    "\r\n",
    "<details>\r\n",
    "  <summary>Remember the theory behind binary classification </summary>\r\n",
    " \r\n",
    "\r\n",
    "### Formalizare problema de clasificare binara:\r\n",
    "\r\n",
    "* datele se caracterizeaza prin $atribute$ ($x = (x_1, x_2, ..., x_3)$) si $eticheta$ ($label \\in \\{0, 1\\}$)\r\n",
    "* modelul (liniar) de discriminare intre cele 2 clase: $y = f(x, w) = w_0 + w_1 * x_1 + w_2 * x_2 + ...$ (atentie, $y$ va fi un numar real, nu o eticheta)\r\n",
    "* clasificatorul, adica modelul de predictie (asociaza o eticheta valorii reale calculata cu modelul de discriminare): $label = h(x, w) = transformare(f(x, w))$\r\n",
    "\r\n",
    "\r\n",
    "### Metodologia rezolvarii unei probleme de clasificare binara\r\n",
    "\r\n",
    "**Antrenare** \r\n",
    "\r\n",
    "\r\n",
    "> Input: \r\n",
    "\r\n",
    "un set de exemple etichetate $(x^i, y^i)$, cu $i \\in \\{1, 2, ..., n\\}$, $x^i$ - vectorul de atribute asociate unui exemplu, $y^i$ etichetata asociata exemplului $x^i$ (poate fi 0 sau 1 - clasificare binara), $n$ reprezinta numarul de date de antrenament.\r\n",
    "\r\n",
    "\r\n",
    "> Output: \r\n",
    "\r\n",
    "un model de discriminare intre cele 2 clase, adica valorile optime ale coeficientilor $w$ din ecuatia de regresie \r\n",
    "$$f(x, w) = w_0 + w_1 * x_1 + w_2 * x_2 + ... $$\r\n",
    "\r\n",
    "\r\n",
    "> Algoritm: \r\n",
    "\r\n",
    "Regresie logistica - identificarea coeficientilor prin $Gradient Descent$\r\n",
    "in care valoarea prezisa de discriminator este transformata in $[0, 1]$ \r\n",
    "$$y_{computed} = sigmoid(f(x,w))$$\r\n",
    "\r\n",
    "**Testare** \r\n",
    "\r\n",
    "> Input: \r\n",
    "\r\n",
    "un exemplu ne-etichetat $(x_{new})$, cu $x_{new}$ - vectorul de atribute asociate acelui exemplu\r\n",
    "\r\n",
    "> Output: \r\n",
    "\r\n",
    "eticheta prezisa pentru exemplul $x_{new}$\r\n",
    "\r\n",
    "> Algoritm: \r\n",
    "\r\n",
    "Folosirea discriminantului invatat (a coeficientilor), a transformatei de tip sigmoid si a unui prag ($\\Theta$): \r\n",
    "$$label = \\left\\{\\begin{array}{lr}    0, & sigmoid(f(x_{new}, w)) < \\Theta\\\\    1, & altfel \\end{array} \\right.$$\r\n",
    "\r\n",
    "### Evaluarea performantei clasificatorului (a se vedea materialele din laboratorul 6)\r\n",
    "\r\n",
    "* acuratetea \r\n",
    "* precizia\r\n",
    "* rapelul \r\n",
    "\r\n",
    "</details>"
   ],
   "metadata": {}
  },
  {
   "cell_type": "markdown",
   "source": [
    "<details>\r\n",
    "  <summary>Remember the theory behind multi-class classification </summary>\r\n",
    " \r\n",
    "\r\n",
    "### Formalizare problema de clasificare multiclasa - abordarea *one versus all*: <img src=\"images\\multiclass.png\" width=\"200\">\r\n",
    "\r\n",
    "**One vs. all** provides a way to leverage binary classification. Given a classification problem with $noClasses$ possible solutions, a *one-vs.-all* solution consists of $noClasses$ separate binary classifiers—one binary classifier for each possible outcome. During training, the model runs through a sequence of binary classifiers, training each to answer a separate classification question. For example, given five possible classes (apple, bear, candy, dog, egg) and a picture of a dog, five different recognizers might be trained, four seeing the image as a negative example (not a dog) and one seeing the image as a positive example (a dog). That is:\r\n",
    "* Is this image an apple? No.\r\n",
    "* Is this image a bear? No.\r\n",
    "* Is this image candy? No.\r\n",
    "* Is this image a dog? Yes.\r\n",
    "* Is this image an egg? No.\r\n",
    "\r\n",
    "This approach is fairly reasonable when the total number of classes is small, but becomes increasingly inefficient as the number of classes rises.\r\n",
    "\r\n",
    "* datele se caracterizeaza prin $atribute$ ($x = (x_1, x_2, ..., x_m)$) si $eticheta$ ($label \\in \\{1, 2, 3, ..., noClasses\\}$)\r\n",
    "* se transforma problema in $noClasses$ probleme de clasificare binara\r\n",
    "    - de ex., prima problema va fi formata din exemplele din clasa cu eticheta 1 si toate celelalte exemplele (1 versus restul)\r\n",
    "    - a doua problema va fi formata din exemplele din clasa cu eticheta 2 si toate celelalte exemplele (2 versus restul)\r\n",
    "* se antreneaza $noClasses$ modele de discriminare binara \r\n",
    "* la testare, se aplica toate modelele binare si este ales cel care produce cea mai mare valoare (indicele modelului va indica eticheta prezisa)\r\n",
    "\r\n",
    "\r\n",
    "\r\n",
    "### Metodologia one vs. all pentru rezolvarea unei probleme de clasificare multi-clasa\r\n",
    "\r\n",
    "**Antrenare** \r\n",
    "\r\n",
    "> Input: \r\n",
    "\r\n",
    "un set de exemple etichetate $(x^i, y^i)$, cu $i \\in \\{1, 2, ..., n\\}$, $x^i$ - vectorul de atribute asociate unui exemplu, $y^i$ etichetata asociata exemplului $x^i$ (poate fi  1, 2, ..., $noClasses$ - clasificare multi-clasa)\r\n",
    "\r\n",
    "> Output: \r\n",
    "\r\n",
    "$noClasses$ modele de discriminare intre 2 cate 2 clase (adica valorile optime ale coeficientilor $w$ din ecuatiile de regresie $f^k(x, w) = w_0 + w_1 * x_1 + w_2 * x_2 + ...$, unde $k = 1, 2, ..., noClasses$\r\n",
    "\r\n",
    "> Algoritm: \r\n",
    "\r\n",
    "Identificarea coeficientilor (din fiecare problema binara) prin:\r\n",
    "* metoda celor mai mici patrate ($Least Square$)\r\n",
    "* $Gradient Descent$\r\n",
    "in care valoarea prezisa de discriminator este transformata in $[0, 1]$ ($y_{computed} = sigmoid(f(x,w))$).\r\n",
    "\r\n",
    "**Testare** \r\n",
    "\r\n",
    "> Input: \r\n",
    "\r\n",
    "un exemplu ne-etichetat $(x_{new})$, cu $x_{new}$ - vectorul de atribute asociate acelui exemplu\r\n",
    "\r\n",
    "> Output: \r\n",
    "\r\n",
    "eticheta prezisa pentru exemplul $x_{new}$\r\n",
    "\r\n",
    "> Algoritm:\r\n",
    "* calcularea valorilor prezise de fiecare discriminant si sigmoidarea lor (similar clasificarii binare) \r\n",
    "$$computed = [sigmoid(f^1(x_{new},w^1)), sigmoid(f^(x_{new}, w^2)), ..., sigmoid(f^{noClasses}(x_{new}, w^{noClasses}))]$$\r\n",
    "* identificarea celei mai mari valori din $computed$ \r\n",
    "* pozitia valorii maximale indica eticheta corecta asociata lui $x_{new}$\r\n",
    "$$label = argmax(computed)$$\r\n",
    "\r\n",
    "\r\n",
    "### Evaluarea performantei clasificatorului (a se vedea materialele din laboratorul 6)\r\n",
    "\r\n",
    "* acuratetea \r\n",
    "* precizia\r\n",
    "* rapelul \r\n",
    "\r\n",
    "</details>"
   ],
   "metadata": {}
  },
  {
   "cell_type": "markdown",
   "source": [
    "## Exemple"
   ],
   "metadata": {}
  },
  {
   "cell_type": "markdown",
   "source": [
    "### Demo1 - clasificare binara <img src=\"images/breast.png\" width=\"150\">"
   ],
   "metadata": {}
  },
  {
   "cell_type": "markdown",
   "source": [
    "#### Problema: clasificarea țesuturilor cancerigene\r\n",
    "\r\n",
    "Se consideră informații despre cancerul de sân la femei, informații extrase din ecografii mamare (detalii [aici](https://archive.ics.uci.edu/ml/datasets/Breast+Cancer+Wisconsin+(Diagnostic))) precum:\r\n",
    "* Tipul malformației identificate (țesut benign sau țesut malign)\r\n",
    "* Caracteristici numerice ale nucleului celulelor din aceste țesuturi: \r\n",
    "    - raza (media distanțelor între centru si punctele de pe contur)\r\n",
    "    - textura (măsurată prin deviația standard a nivelelor de gri din imaginea asociată țesutului analizat)\r\n",
    "\r\n",
    "Folosindu-se aceste date, să se decidă dacă țesutul dintr-o nouă ecografie (pentru care se cunosc cele 2 caracteristici numerice – raza și textura –) va fi etichetat ca fiind malign sau benign. \r\n",
    "\r\n",
    "**Metodologie pentru aplicarea RL pentru estimarea tipului de cancer**\r\n",
    "\r\n",
    "*\tstep1: load data (breast cancer & 2 features), plot pt distributia datelor\r\n",
    "*\tstep2: impartire pe train si test; normalizare \r\n",
    "*\tstep3: invatare model (cu tool linear_model.LogisticRegression() -- [link](https://scikit-learn.org/stable/modules/generated/sklearn.linear_model.LogisticRegression.html) -- sau cu implementare proprie)\r\n",
    "*\tstep4: testare model, plot rezultate, forma outputului si interpretarea lui\r\n",
    "*\tstep5: calcul metrici de performanta (acc)"
   ],
   "metadata": {}
  },
  {
   "cell_type": "code",
   "execution_count": 5,
   "source": [
    "from sklearn.datasets import load_breast_cancer\r\n",
    "from sklearn.preprocessing import StandardScaler\r\n"
   ],
   "outputs": [],
   "metadata": {}
  },
  {
   "cell_type": "markdown",
   "source": [
    "#### Pasul 1 - plot pt distributia datelor "
   ],
   "metadata": {}
  },
  {
   "cell_type": "code",
   "execution_count": 3,
   "source": [
    "# step1: load data (breast cancer & 2 features), plot pt distributia datelor\r\n",
    "\r\n",
    "data = load_breast_cancer()\r\n",
    "inputs = data['data']\r\n",
    "outputs = data['target']\r\n",
    "outputNames = data['target_names']\r\n",
    "featureNames = list(data['feature_names'])\r\n",
    "feature1 = [feat[featureNames.index('mean radius')] for feat in inputs]\r\n",
    "feature2 = [feat[featureNames.index('mean texture')] for feat in inputs]\r\n",
    "inputs = [[feat[featureNames.index('mean radius')], feat[featureNames.index('mean texture')]] for feat in inputs]\r\n",
    "\r\n",
    "import matplotlib.pyplot as plt\r\n",
    "labels = set(outputs)\r\n",
    "noData = len(inputs)\r\n",
    "for crtLabel in labels:\r\n",
    "    x = [feature1[i] for i in range(noData) if outputs[i] == crtLabel ]\r\n",
    "    y = [feature2[i] for i in range(noData) if outputs[i] == crtLabel ]\r\n",
    "    plt.scatter(x, y, label = outputNames[crtLabel])\r\n",
    "plt.xlabel('mean radius')\r\n",
    "plt.ylabel('mean texture')\r\n",
    "plt.legend()\r\n",
    "plt.show()    "
   ],
   "outputs": [
    {
     "output_type": "display_data",
     "data": {
      "image/png": "[encoded data removed]",
      "text/plain": [
       "<Figure size 432x288 with 1 Axes>"
      ]
     },
     "metadata": {
      "needs_background": "light"
     }
    }
   ],
   "metadata": {}
  },
  {
   "cell_type": "code",
   "execution_count": 4,
   "source": [
    "def plotDataHistogram(x, variableName):\r\n",
    "    n, bins, patches = plt.hist(x, 10)\r\n",
    "    plt.title('Histogram of ' + variableName)\r\n",
    "    plt.show()\r\n",
    "\r\n",
    "# plot the data distribution\r\n",
    "plotDataHistogram(feature1, 'mean radius')\r\n",
    "plotDataHistogram(feature2, 'mean texture')\r\n",
    "plotDataHistogram(outputs, 'cancer class')"
   ],
   "outputs": [
    {
     "output_type": "display_data",
     "data": {
      "image/png": "[encoded data removed]",
      "text/plain": [
       "<Figure size 432x288 with 1 Axes>"
      ]
     },
     "metadata": {
      "needs_background": "light"
     }
    },
    {
     "output_type": "display_data",
     "data": {
      "image/png": "[encoded data removed]",
      "text/plain": [
       "<Figure size 432x288 with 1 Axes>"
      ]
     },
     "metadata": {
      "needs_background": "light"
     }
    },
    {
     "output_type": "display_data",
     "data": {
      "image/png": "[encoded data removed]",
      "text/plain": [
       "<Figure size 432x288 with 1 Axes>"
      ]
     },
     "metadata": {
      "needs_background": "light"
     }
    }
   ],
   "metadata": {}
  },
  {
   "cell_type": "markdown",
   "source": [
    "#### Pasul 2 - impartire date pe train si test si normalizare"
   ],
   "metadata": {}
  },
  {
   "cell_type": "code",
   "execution_count": 6,
   "source": [
    "def normalisation(trainData, testData):\r\n",
    "    scaler = StandardScaler()\r\n",
    "    if not isinstance(trainData[0], list):\r\n",
    "        #encode each sample into a list\r\n",
    "        trainData = [[d] for d in trainData]\r\n",
    "        testData = [[d] for d in testData]\r\n",
    "        \r\n",
    "        scaler.fit(trainData)  #  fit only on training data\r\n",
    "        normalisedTrainData = scaler.transform(trainData) # apply same transformation to train data\r\n",
    "        normalisedTestData = scaler.transform(testData)  # apply same transformation to test data\r\n",
    "        \r\n",
    "        #decode from list to raw values\r\n",
    "        normalisedTrainData = [el[0] for el in normalisedTrainData]\r\n",
    "        normalisedTestData = [el[0] for el in normalisedTestData]\r\n",
    "    else:\r\n",
    "        scaler.fit(trainData)  #  fit only on training data\r\n",
    "        normalisedTrainData = scaler.transform(trainData) # apply same transformation to train data\r\n",
    "        normalisedTestData = scaler.transform(testData)  # apply same transformation to test data\r\n",
    "    return normalisedTrainData, normalisedTestData\r\n"
   ],
   "outputs": [],
   "metadata": {}
  },
  {
   "cell_type": "code",
   "execution_count": 7,
   "source": [
    "def plotClassificationData(feature1, feature2, outputs, title = None):\r\n",
    "    labels = set(outputs)\r\n",
    "    noData = len(feature1)\r\n",
    "    for crtLabel in labels:\r\n",
    "        x = [feature1[i] for i in range(noData) if outputs[i] == crtLabel ]\r\n",
    "        y = [feature2[i] for i in range(noData) if outputs[i] == crtLabel ]\r\n",
    "        plt.scatter(x, y, label = outputNames[crtLabel])\r\n",
    "    plt.xlabel('mean radius')\r\n",
    "    plt.ylabel('mean texture')\r\n",
    "    plt.legend()\r\n",
    "    plt.title(title)\r\n",
    "    plt.show()\r\n"
   ],
   "outputs": [],
   "metadata": {}
  },
  {
   "cell_type": "code",
   "execution_count": 8,
   "source": [
    "# step2: impartire pe train si test\r\n",
    "# step2': normalizare \r\n",
    "import numpy as np\r\n",
    "\r\n",
    "# split data into train and test subsets\r\n",
    "np.random.seed(5)\r\n",
    "indexes = [i for i in range(len(inputs))]\r\n",
    "trainSample = np.random.choice(indexes, int(0.8 * len(inputs)), replace = False)\r\n",
    "testSample = [i for i in indexes  if not i in trainSample]\r\n",
    "\r\n",
    "trainInputs = [inputs[i] for i in trainSample]\r\n",
    "trainOutputs = [outputs[i] for i in trainSample]\r\n",
    "testInputs = [inputs[i] for i in testSample]\r\n",
    "testOutputs = [outputs[i] for i in testSample]\r\n",
    "\r\n",
    "#normalise the features\r\n",
    "trainInputs, testInputs = normalisation(trainInputs, testInputs)\r\n",
    "\r\n",
    "#plot the normalised data\r\n",
    "feature1train = [ex[0] for ex in trainInputs]\r\n",
    "feature2train = [ex[1] for ex in trainInputs]\r\n",
    "feature1test = [ex[0] for ex in testInputs]\r\n",
    "feature2test = [ex[1] for ex in testInputs]  \r\n",
    "\r\n",
    "plotClassificationData(feature1train, feature2train, trainOutputs, 'normalised train data')\r\n"
   ],
   "outputs": [
    {
     "output_type": "display_data",
     "data": {
      "image/png": "[encoded data removed]",
      "text/plain": [
       "<Figure size 432x288 with 1 Axes>"
      ]
     },
     "metadata": {
      "needs_background": "light"
     }
    }
   ],
   "metadata": {}
  },
  {
   "cell_type": "markdown",
   "source": [
    "#### Pasul 3 - invatare model (cu tool sau cod propriu)"
   ],
   "metadata": {}
  },
  {
   "cell_type": "code",
   "execution_count": 9,
   "source": [
    "# step3: invatare model (cu tool linear_model.LogisticRegression() -- [link](https://scikit-learn.org/stable/modules/generated/sklearn.linear_model.LogisticRegression.html) -- si cu implementare proprie)\r\n",
    "\r\n",
    "\r\n",
    "#identify (by training) the classifier\r\n",
    "\r\n",
    "# # using sklearn\r\n",
    "# from sklearn import linear_model\r\n",
    "# classifier = linear_model.LogisticRegression()\r\n",
    "\r\n",
    "# using developed code\r\n",
    "from LogisticRegression import MyLogisticRegression \r\n",
    "# model initialisation\r\n",
    "classifier = MyLogisticRegression()\r\n",
    "\r\n",
    "# train the classifier (fit in on the training data)\r\n",
    "classifier.fit(trainInputs, trainOutputs)\r\n",
    "# parameters of the liniar regressor\r\n",
    "w0, w1, w2 = classifier.intercept_, classifier.coef_[0], classifier.coef_[1]\r\n",
    "print('classification model: y(feat1, feat2) = ', w0, ' + ', w1, ' * feat1 + ', w2, ' * feat2')\r\n",
    "    "
   ],
   "outputs": [
    {
     "output_type": "stream",
     "name": "stdout",
     "text": [
      "classification model: y(feat1, feat2) =  0.9579353512205957  +  -4.446828732086576  * feat1 +  -1.0408997402561482  * feat2\n"
     ]
    }
   ],
   "metadata": {}
  },
  {
   "cell_type": "markdown",
   "source": [
    "#### Pasul 4 - plot rezultate (model invatat, predictii)"
   ],
   "metadata": {}
  },
  {
   "cell_type": "code",
   "execution_count": 10,
   "source": [
    "# step4: testare model, plot rezultate, forma outputului si interpretarea lui\r\n",
    "\r\n",
    "# makes predictions for test data\r\n",
    "# computedTestOutputs = [w0 + w1 * el[0] + w2 * el[1] for el in testInputs]\r\n",
    "\r\n",
    "# makes predictions for test data (by tool)\r\n",
    "computedTestOutputs = classifier.predict(testInputs)\r\n"
   ],
   "outputs": [],
   "metadata": {}
  },
  {
   "cell_type": "code",
   "execution_count": 11,
   "source": [
    "\r\n",
    "def plotPredictions(feature1, feature2, realOutputs, computedOutputs, title, labelNames):\r\n",
    "    labels = list(set(outputs))\r\n",
    "    noData = len(feature1)\r\n",
    "    for crtLabel in labels:\r\n",
    "        x = [feature1[i] for i in range(noData) if realOutputs[i] == crtLabel and computedOutputs[i] == crtLabel ]\r\n",
    "        y = [feature2[i] for i in range(noData) if realOutputs[i] == crtLabel and computedOutputs[i] == crtLabel]\r\n",
    "        plt.scatter(x, y, label = labelNames[crtLabel] + ' (correct)')\r\n",
    "    for crtLabel in labels:\r\n",
    "        x = [feature1[i] for i in range(noData) if realOutputs[i] == crtLabel and computedOutputs[i] != crtLabel ]\r\n",
    "        y = [feature2[i] for i in range(noData) if realOutputs[i] == crtLabel and computedOutputs[i] != crtLabel]\r\n",
    "        plt.scatter(x, y, label = labelNames[crtLabel] + ' (incorrect)')\r\n",
    "    plt.xlabel('mean radius')\r\n",
    "    plt.ylabel('mean texture')\r\n",
    "    plt.legend()\r\n",
    "    plt.title(title)\r\n",
    "    plt.show()\r\n",
    "\r\n",
    "plotPredictions(feature1test, feature2test, testOutputs, computedTestOutputs, \"real test data\", outputNames)"
   ],
   "outputs": [
    {
     "output_type": "display_data",
     "data": {
      "image/png": "[encoded data removed]",
      "text/plain": [
       "<Figure size 432x288 with 1 Axes>"
      ]
     },
     "metadata": {
      "needs_background": "light"
     }
    }
   ],
   "metadata": {}
  },
  {
   "cell_type": "markdown",
   "source": [
    "#### Pasul 5 - calcul metrici de performanta (eroarea)"
   ],
   "metadata": {}
  },
  {
   "cell_type": "code",
   "execution_count": 12,
   "source": [
    "# step5: calcul metrici de performanta (acc)\r\n",
    "\r\n",
    "# evalaute the classifier performance\r\n",
    "# compute the differences between the predictions and real outputs\r\n",
    "# print(\"acc score: \", classifier.score(testInputs, testOutputs))\r\n",
    "error = 0.0\r\n",
    "for t1, t2 in zip(computedTestOutputs, testOutputs):\r\n",
    "    if (t1 != t2):\r\n",
    "        error += 1\r\n",
    "error = error / len(testOutputs)\r\n",
    "print(\"classification error (manual): \", error)\r\n",
    "\r\n",
    "from sklearn.metrics import accuracy_score\r\n",
    "error = 1 - accuracy_score(testOutputs, computedTestOutputs)\r\n",
    "print(\"classification error (tool): \", error)"
   ],
   "outputs": [
    {
     "output_type": "stream",
     "name": "stdout",
     "text": [
      "classification error (manual):  0.19298245614035087\n",
      "classification error (tool):  0.19298245614035092\n"
     ]
    }
   ],
   "metadata": {}
  },
  {
   "cell_type": "markdown",
   "source": [
    "## Tema –  Ce fel de floare preferi? (clasificare multiclasa) <img src=\"images/iris.png\" width=\"350\">"
   ],
   "metadata": {}
  },
  {
   "cell_type": "markdown",
   "source": [
    "**Ce floare de iris alegi?**\r\n",
    "Se consideră problema clasificării florilor de iris în diferite specii precum: setosa, versicolor și virginica. Pentru fiecare floare se cunosc caracteristici precum: lungimea și lățimea sepalei, lungimea și lățimea petalei. Mai multe detalii despre acest set se pot găsi [aici](https://archive.ics.uci.edu/ml/datasets/Iris). \r\n",
    "Folosindu-se aceste informații, să se decidă din ce specie aparține o anumită floare. \r\n",
    "\r\n",
    "\r\n",
    "Să se rezolve problema implementându-se rutine pentru:\r\n",
    "* clasificarea multi-clasă folosind metoda de regresie logistică (cu tool)\r\n",
    "* clasificarea multi-clasă folosind metoda de regresie logistică (cu cod propriu)\r\n",
    "prin daptarea flow-ului de la clasificarea binara cu tool (transformarea problemei cu k clase in k probleme binare – one versus all; atentie la outputul oferit de tool si cum face predictiile pe test)\r\n",
    "\r\n",
    "\r\n",
    "\r\n",
    "* folosirea batch-urilor în procesul de antrenament și validarea încrucișată (temă opțională) - 100 puncte\r\n",
    "* investigarea diferitelor funcții de loss (temă opțională) - 100 puncte \r\n"
   ],
   "metadata": {}
  },
  {
   "cell_type": "markdown",
   "source": [
    "## Tema optionala"
   ],
   "metadata": {}
  },
  {
   "cell_type": "markdown",
   "source": [
    "Să se rezolve problema clasificarii florilor de iris implementându-se rutine pentru:\r\n",
    "- folosirea batch-urilor în procesul de antrenament și validarea încrucișată\r\n",
    "- investigarea diferitelor funcții de loss (temă opțională). \r\n",
    "\r\n",
    "Ce se întîmplă în cazul clasificarii binare daca se modifică pragul de decizie din 0.5 în alte valori. Cum se poate aprecia calitatea clasificatorului pentru diferite valori ale pragului?\r\n"
   ],
   "metadata": {}
  }
 ],
 "metadata": {
  "language_info": {
   "name": "python",
   "version": "3.7.2",
   "mimetype": "text/x-python",
   "codemirror_mode": {
    "name": "ipython",
    "version": 3
   },
   "pygments_lexer": "ipython3",
   "nbconvert_exporter": "python",
   "file_extension": ".py"
  },
  "orig_nbformat": 2,
  "file_extension": ".py",
  "mimetype": "text/x-python",
  "name": "python",
  "npconvert_exporter": "python",
  "pygments_lexer": "ipython3",
  "version": 3,
  "kernelspec": {
   "name": "python3",
   "display_name": "Python 3.7.2 64-bit ('myenv': venv)"
  },
  "interpreter": {
   "hash": "e9dc543f66030a8dac45661f55ca2fb15f567084184f0424c1f0b6ed578c96be"
  }
 },
 "nbformat": 4,
 "nbformat_minor": 2
}
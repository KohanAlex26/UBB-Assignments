{
 "nbformat": 4,
 "nbformat_minor": 2,
 "metadata": {
  "language_info": {
   "name": "python",
   "version": "3.7.2",
   "mimetype": "text/x-python",
   "codemirror_mode": {
    "name": "ipython",
    "version": 3
   },
   "pygments_lexer": "ipython3",
   "nbconvert_exporter": "python",
   "file_extension": ".py"
  },
  "orig_nbformat": 2,
  "file_extension": ".py",
  "mimetype": "text/x-python",
  "name": "python",
  "npconvert_exporter": "python",
  "pygments_lexer": "ipython3",
  "version": 3,
  "kernelspec": {
   "name": "python3",
   "display_name": "Python 3.7.2 64-bit ('myenv': venv)"
  },
  "interpreter": {
   "hash": "e9dc543f66030a8dac45661f55ca2fb15f567084184f0424c1f0b6ed578c96be"
  }
 },
 "cells": [
  {
   "cell_type": "markdown",
   "source": [
    "# Lab06 - Invatare automata - metode de evaluare"
   ],
   "metadata": {}
  },
  {
   "cell_type": "markdown",
   "source": [
    "## Obiective\r\n",
    "\r\n",
    "- intelegerea problemelor rezolvabile cu metode de învățare automată (regresie și clasificare). \r\n",
    "- intelegerea măsurilor de evaluare a performanței acestor metode.\r\n",
    "\r\n",
    "## Cuvinte cheie\r\n",
    "- regresie liniara (uni-variata si multi-variata)\r\n",
    "- clasificare (binara si multi-class)\r\n",
    "- eroare de predictie\r\n",
    "- acuratete, precizie, rapel"
   ],
   "metadata": {}
  },
  {
   "cell_type": "markdown",
   "source": [
    "## Aspecte teoretice "
   ],
   "metadata": {}
  },
  {
   "cell_type": "markdown",
   "source": [
    "- Regresie - scopul rezolvarii unei probleme de regresie este predictia unor valori reale. Calitatea predictiei (pe un set de date de control) consta in insumarea diferentelor (absolute sau ridicate la puterea a 2-a) dintre valoarea reala si valoarea prezisa de algoritm.\r\n",
    "\r\n",
    "- Clasificare - scopul rezolvarii unei probleme de clasificare este predictia unor valori discrete (etichete). Calitatea predictiei (pe un set de date de control) consta in numararea diferentelor dintre valoarea (eticheta) reala si valoarea (Eticheta) prezisa de algoritm."
   ],
   "metadata": {}
  },
  {
   "cell_type": "markdown",
   "source": [
    "## Exemple (explicatii si demo)"
   ],
   "metadata": {}
  },
  {
   "cell_type": "markdown",
   "source": [
    "### Regression problems\r\n",
    "\r\n",
    "\r\n",
    "<details>\r\n",
    "  <summary>Remember the theory behind error functions</summary>\r\n",
    "  \r\n",
    "In a regression problem, the outputs of a prediction algorithm are represented by real values. \r\n",
    "For instance, we want to estimate the icecream consumption (in a camp) according to the temperature and the number of children in a camp. This is a single-target regression problem (the target is icecream consumption) with two features (the temperature and the number of children).\r\n",
    "\r\n",
    "Suppose that an ML algorithm has provided, for a set of camps (known as set of inputs or set of samples), a set of icecream consumption (known as set of outputs) $computedOutputs$. The real icecream consumption are also known ($realOutputs$). Determine the algorithm's performance.\r\n",
    "\r\n",
    "A possible performance measure is given by the prediction error expressed as sum of the distances between the real outputs and the predicted outputs. The distance, for each sample, can be measured as:\r\n",
    "- the absolute difference  (this is $L_1$ distance):\r\n",
    "$$Error = \\frac{1}{noSamples} \\times \\sum_{i=1}^{noSamples} |realNoInfections_i - computedNoInfections_i| = Mean Absolute Error (MAE)$$\r\n",
    "- the square difference (this is the $L_2$ distance):\r\n",
    "$$Error = \\sqrt{\\frac{1}{noSamples} \\times \\sum_{i=1}^{noSamples} (realNoInfections_i - computedNoInfections_i) ^ 2} = Root Mean Square Error (RMSE)$$ \r\n",
    "\r\n",
    "\r\n",
    "</details>\r\n"
   ],
   "metadata": {}
  },
  {
   "cell_type": "markdown",
   "source": [
    "#### **Demo1**\r\n",
    "\r\n",
    "Consider some real values and some predicted values (obtained by the ML algorithm) and we want ot estimate the error of prediction\r\n",
    "\r\n",
    "| Country |\tHappinessScore | PredictedScore |\r\n",
    "| --- | --- | --- |\r\n",
    "| Norway | 7.53 | 7.80 |\r\n",
    "| Denmark | 7.52 | 7.75 |\r\n",
    "| Iceland | 7.50 | 7.45 |\r\n",
    "| Switzerland |\t7.49 | 7.60 |\r\n",
    "| Finland | 7.46 | 7.40 |"
   ],
   "metadata": {}
  },
  {
   "cell_type": "code",
   "execution_count": 5,
   "source": [
    "from math import sqrt\r\n",
    "import matplotlib.pyplot as plt\r\n",
    "import numpy as np"
   ],
   "outputs": [],
   "metadata": {}
  },
  {
   "cell_type": "code",
   "execution_count": 6,
   "source": [
    "# Problem specification:\r\n",
    "# input: realOutputs, computedOutputs - arrays of the same length containing real numbers\r\n",
    "# output: error - real value\r\n",
    "\r\n",
    "realOutputs = [7.53, 7.52, 7.5, 7.49, 7.46]\r\n",
    "computedOutputs = [7.8, 7.75, 7.45, 7.6, 7.4]\r\n",
    "\r\n",
    "# plot the data\r\n",
    "indexes = [i for i in range(len(realOutputs))]\r\n",
    "real, = plt.plot(indexes, realOutputs, 'ro', label = 'real')\r\n",
    "computed, = plt.plot(indexes, computedOutputs, 'bo', label = 'computed')\r\n",
    "plt.xlim(-0.5,5)\r\n",
    "plt.ylim(7, 8)\r\n",
    "plt.legend([real, (real, computed)], [\"Real\", \"Computed\"])\r\n",
    "plt.show()\r\n"
   ],
   "outputs": [
    {
     "output_type": "display_data",
     "data": {
      "image/png": "[encoded data removed]",
      "text/plain": [
       "<Figure size 432x288 with 1 Axes>"
      ]
     },
     "metadata": {
      "needs_background": "light"
     }
    }
   ],
   "metadata": {}
  },
  {
   "cell_type": "code",
   "execution_count": 7,
   "source": [
    "\r\n",
    "# compute the prediction error\r\n",
    "\r\n",
    "# MAE\r\n",
    "errorL1 = sum(abs(r - c) for r, c in zip(realOutputs, computedOutputs)) / len(realOutputs)\r\n",
    "print('Error (L1): ', errorL1)\r\n",
    "\r\n",
    "# RMSE\r\n",
    "errorL2 = sqrt(sum((r - c) ** 2 for r, c in zip(realOutputs, computedOutputs)) / len(realOutputs))\r\n",
    "print('Error (L2): ', errorL2)\r\n"
   ],
   "outputs": [
    {
     "output_type": "stream",
     "name": "stdout",
     "text": [
      "Error (L1):  0.14399999999999977\n",
      "Error (L2):  0.16970562748477128\n"
     ]
    }
   ],
   "metadata": {}
  },
  {
   "cell_type": "markdown",
   "source": [
    "### Binary classification problems \r\n",
    "\r\n",
    "<details>\r\n",
    "  <summary>Remember the theory behind error functions</summary>\r\n",
    "  \r\n",
    "\r\n",
    "If we deal by a binary classification problem, the outputs represent some labels. There are possible two labels, only (one for each class or output type). Suppose that class 1 is the positive class, while class 2 is the negative class. For instance, if we want to classify the emails into spam or ham messages, *spam* and *ham* are the two classes. \r\n",
    "\r\n",
    "An ML algorithm has provided, for a set of emails (known as set of inputs or set of samples), a set of spam/ham labels (known as set of outputs) $computedOutputs$. The real labels are also known $realOutputs$. Determine the algorithm's performance. \r\n",
    "\r\n",
    "Three performance measures are usefull for a classification problem: accuracy, precision, recall. Some pre-computations, enclosed in the confusion matrix are useful: \r\n",
    "- true positive \r\n",
    "- false positive\r\n",
    "- true negative\r\n",
    "- false negative\r\n",
    "\r\n",
    "The confusion matrix has the form: <img src=\"images/cm.png\" width=\"400\">\r\n",
    "- accuracy represents the overall performance of classification model: \r\n",
    "$$acc = \\frac{TP + TN}{TP + TN + FP + FN} = \\frac{correc predicted}{no of all samples}$$\r\n",
    "- precision indicates how accurate the positive predictions are: \r\n",
    "$$precision = \\frac{TP}{TP+FP}$$\r\n",
    "- recall indicates the coverage of actual positive sample: \r\n",
    "$$recall = \\frac{TP}{TP+FN}$$\r\n",
    "\r\n",
    "</details>\r\n"
   ],
   "metadata": {}
  },
  {
   "cell_type": "markdown",
   "source": [
    "#### **Demo2.1**\r\n",
    "\r\n",
    "Consider a set of emails, **half** of them being good ones (ham) and the others not (spam). We obtained the predicted labels by using an ML agorithm (obtained by the ML algorithm) and we want ot estimate the quality of prediction.\r\n",
    "\r\n",
    "| email |\tRealLabel | PredictedLabel |\r\n",
    "| --- | --- | --- |\r\n",
    "| FreeMsg Hey there darling it's been 3 week's now and no word back! I'd like some fun you up for it still? Tb ok! XxX std chgs to send, å£1.50 to rcv | spam | spam |\r\n",
    "| Had your mobile 11 months or more? U R entitled to Update to the latest colour mobiles with camera for Free! Call The Mobile Update Co FREE on 08002986030  | spam | ham |\r\n",
    "| I'm gonna be home soon and i don't want to talk about this stuff anymore tonight, k? I've cried enough today   | ham | ham |\r\n",
    "| I've been searching for the right words to thank you for this breather. I promise i wont take your help for granted and will fulfil my promise. You have been wonderful and a blessing at all times  | ham | spam |\r\n",
    "| XXXMobileMovieClub: To use your credit, click the WAP link in the next txt message or click here>> http://wap. xxxmobilemovieclub.com?n=QJKGIGHJJGCBL  | spam | spam |\r\n",
    "| I'm back &amp; we're packing the car now, I'll let you know if there's room | ham | ham |"
   ],
   "metadata": {}
  },
  {
   "cell_type": "code",
   "execution_count": null,
   "source": [
    "# packages required\r\n",
    "\r\n",
    "from math import sqrt\r\n",
    "import matplotlib.pyplot as plt\r\n",
    "import numpy as np"
   ],
   "outputs": [],
   "metadata": {}
  },
  {
   "cell_type": "code",
   "execution_count": 34,
   "source": [
    "# consider some real labels and some predicted labels (obtained by the ML algorithm - a classifier)\r\n",
    "# we want ot estimate the error of prediction (classification)\r\n",
    "\r\n",
    "# Problem specification:\r\n",
    "# input: realLabels, computedLabels - arrays of the same length containing binary labels (some discrete values)\r\n",
    "# output: accuracy, precision, recall - real values in range [0,1]\r\n",
    "\r\n",
    "\r\n",
    "# a balanced data set (each class containes the same numer of samples)\r\n",
    "\r\n",
    "realLabels =        ['spam', 'spam', 'ham', 'ham', 'spam', 'ham']\r\n",
    "computedLabels =    ['spam', 'ham', 'ham', 'spam', 'spam', 'ham']\r\n",
    "\r\n",
    "\r\n",
    "\r\n",
    "# suppose that 'spam' is the positive class (and 'ham' is the negative class)\r\n",
    "# compute the prediction performance\r\n",
    "\r\n",
    "# version 1 - using the sklearn functions\r\n",
    "def evalClassificationV1(realLabels, computedLabels, labelNames):\r\n",
    "    from sklearn.metrics import confusion_matrix, accuracy_score, precision_score, recall_score\r\n",
    "\r\n",
    "    cm = confusion_matrix(realLabels, computedLabels, labels = labelNames)\r\n",
    "    acc = accuracy_score(realLabels, computedLabels)\r\n",
    "    precision = precision_score(realLabels, computedLabels, average = None, labels = labelNames)\r\n",
    "    recall = recall_score(realLabels, computedLabels, average = None, labels = labelNames)\r\n",
    "    return acc, precision, recall \r\n",
    "\r\n",
    "# version 2 - native code\r\n",
    "def evalClassificationV2(realLabels, computedLabels, pos, neg):\r\n",
    "    # noCorrect = 0\r\n",
    "    # for i in range(0, len(realLabels)):\r\n",
    "    #     if (realLabels[i] == computedLabels[i]):\r\n",
    "    #         noCorrect += 1\r\n",
    "    # acc = noCorrect / len(realLabels)\r\n",
    "    acc = sum([1 if realLabels[i] == computedLabels[i] else 0 for i in range(0, len(realLabels))]) / len(realLabels)\r\n",
    "\r\n",
    "    # TP = 0\r\n",
    "    # for i in range(0, len(realLabels)):\r\n",
    "    #     if (realLabels[i] == 'spam' and computedLabels[i] == 'spam'):\r\n",
    "    #         TP += 1\r\n",
    "    TP = sum([1 if (realLabels[i] == pos and computedLabels[i] == pos) else 0 for i in range(len(realLabels))])\r\n",
    "    FP = sum([1 if (realLabels[i] == neg and computedLabels[i] == pos) else 0  for i in range(len(realLabels))])\r\n",
    "    TN = sum([1 if (realLabels[i] == neg and computedLabels[i] == neg) else 0 for i in range(len(realLabels))])\r\n",
    "    FN = sum([1 if (realLabels[i] == pos and computedLabels[i] == neg) else 0  for i in range(len(realLabels))])\r\n",
    "\r\n",
    "    precisionPos = TP / (TP + FP)\r\n",
    "    recallPos = TP / (TP + FN)\r\n",
    "    precisionNeg = TN / (TN + FN)\r\n",
    "    recallNeg = TN / (TN + FP)\r\n",
    "\r\n",
    "    return acc, precisionPos, precisionNeg, recallPos, recallNeg\r\n",
    "    \r\n",
    "acc, prec, recall = evalClassificationV1(realLabels, computedLabels, ['spam', 'ham'])\r\n",
    "\r\n",
    "# acc, prec, recall = evalClassificationV2(realLabels, computedLabels, 'spam', 'ham')\r\n",
    "\r\n",
    "print('acc: ', acc, ' precision: ', prec, ' recall: ', recall)"
   ],
   "outputs": [
    {
     "output_type": "stream",
     "name": "stdout",
     "text": [
      "acc:  0.6666666666666666  precision:  [0.66666667 0.66666667]  recall:  [0.66666667 0.66666667]\n"
     ]
    }
   ],
   "metadata": {}
  },
  {
   "cell_type": "markdown",
   "source": [
    "#### **Demo2.2**\r\n",
    "\r\n",
    "Consider a set of persons and their tests against COVID. We have the PCR-test results (infected vs. normal) and those obtained by an ML algorithms. We want to estimate the quality of ML prediction.\r\n",
    "\r\n",
    "**Note: just a few people were detected as infected by the PCR-test!!! Hppy us!** :smile:\r\n",
    "\r\n",
    "| Person |\tRealLabel | PredictedLabel |\r\n",
    "| --- | --- | --- |\r\n",
    "| person01 | infected | infected |\r\n",
    "| person02 | infected | infected |\r\n",
    "| person03 | infected | normal |\r\n",
    "..."
   ],
   "metadata": {}
  },
  {
   "cell_type": "code",
   "execution_count": 35,
   "source": [
    "# consider some real labels and some predicted labels (obtained by the ML algorithm - a classifier)\r\n",
    "# we want ot estimate the error of prediction (classification)\r\n",
    "\r\n",
    "# Problem specification:\r\n",
    "# input: realLabels, computedLabels - arrays of the same length containing binary labels (some discrete values)\r\n",
    "# output: accuracy, precision, recall - real values in range [0,1]\r\n",
    "\r\n",
    "# an unbalanced data set (the numer of samples from each class are not uniform distributed)\r\n",
    "\r\n",
    "realLabels =        ['infected', 'infected', 'infected', 'infected', 'normal', 'normal', 'normal', 'normal', 'normal','normal', 'normal', 'normal', 'normal', 'normal', 'normal']\r\n",
    "computedLabels =    ['infected', 'infected', 'normal', 'normal', 'normal', 'normal','normal', 'normal', 'normal', 'normal', 'normal', 'normal', 'normal', 'normal', 'infected']\r\n",
    "\r\n",
    "acc, prec, recall = evalClassificationV1(realLabels, computedLabels, ['infected', 'normal'])\r\n",
    "# acc, prec, recall = evalClassificationV2(realLabels, computedLabels, 'infected', 'normal')\r\n",
    "\r\n",
    "print('acc: ', acc, ' precision: ', prec, ' recall: ', recall)\r\n"
   ],
   "outputs": [
    {
     "output_type": "stream",
     "name": "stdout",
     "text": [
      "acc:  0.8  precision:  [0.66666667 0.83333333]  recall:  [0.5        0.90909091]\n"
     ]
    }
   ],
   "metadata": {}
  },
  {
   "cell_type": "markdown",
   "source": [
    "### Binary classification and probabilities\r\n",
    "\r\n",
    "<details>\r\n",
    "  <summary>Remember the theory behind </summary>\r\n",
    " \r\n",
    "\r\n",
    "What happens if the classification algorithm's **outputs represents probabilities** <img src=\"images/binClassProb.png\" width=\"200\">\r\n",
    "\r\n",
    "In this case, for each sample, $noClasses$ probabilities are computed (such as the summ of probabilities for a sample is 1). Remember that in the case of a binary classification problems ($noClasses$ = 2)\r\n",
    "\r\n",
    "$$computedOutputs = [(p_{11}, p_{12}), (p_{21}, p_{22}), ..., (p_{n1}, p_{n2})]$$\r\n",
    "\r\n",
    "where $p_{ij}$ is the probability that the sample $i$ belongs to class $j$ and $n$ is the number of samples\r\n",
    "\r\n",
    "The corresponding label is indicated by the largest probability\r\n",
    "\r\n",
    "$$computedLabels = [argmax(p_{1j}), argmax(p_{2j}), ..., argmax(p_{nj}),$$ \r\n",
    "\r\n",
    "where $j \\in \\{1, 2, .., noClasses\\}$\r\n",
    "\r\n",
    "</details>\r\n"
   ],
   "metadata": {}
  },
  {
   "cell_type": "markdown",
   "source": [
    "#### **Demo3**\r\n",
    "\r\n",
    "Consider a set of emails, **half** of them being good ones (ham) and the others not (spam). We obtained the predicted outputs by using an ML agorithm and we want ot estimate the quality of prediction. The predicted outputs represent real values and not labels. In fact they are the probabilities associated to these labels. \r\n"
   ],
   "metadata": {}
  },
  {
   "cell_type": "code",
   "execution_count": 36,
   "source": [
    "# consider some real labels and, instead of some predicted labels, we have some values (real values representing probabilities asscoaited to our labels) (obtained by the ML algorithm - a classifier)\r\n",
    "# we want ot estimate the error of prediction (classification)\r\n",
    "# reconsider the problem of emails' classification (spam vs ham)\r\n",
    "\r\n",
    "# Problem specification:\r\n",
    "# input: realLabels, computedOutputs - arrays of the same length containing labels (some discrete values) and real values, respectively\r\n",
    "# output: accuracy, precision, recall - real values in range [0,1]\r\n",
    "\r\n",
    "\r\n",
    "# if the rawOutputs of the ML algorithms are probabilities (not labels)\r\n",
    "realLabels =        ['spam', 'spam', 'ham', 'ham', 'spam', 'ham']\r\n",
    "computedOutputs = [ [0.7, 0.3], [0.2, 0.8], [0.4, 0.6], [0.9, 0.1], [0.7, 0.3], [0.4, 0.6]]\r\n",
    "# computedLabels have to be  ['spam', 'ham', 'ham', 'spam', 'spam', 'ham']\r\n",
    "\r\n",
    "# step1: transform the raw outputs into labels\r\n",
    "\r\n",
    "# version 1 - native code\r\n",
    "# computedLabels = []\r\n",
    "# labelNames = list(set(realLabels))\r\n",
    "# for p in computedOutputs:\r\n",
    "#     probMaxPos = p.index(max(p))\r\n",
    "#     label = labelNames[probMaxPos]\r\n",
    "#     computedLabels.append(label)\r\n",
    "\r\n",
    "# version 2 - by using NumPy library\r\n",
    "\r\n",
    "labelNames = list(set(realLabels))\r\n",
    "computedLabels = [labelNames[np.argmax(p)] for p in computedOutputs]\r\n",
    "\r\n",
    "# step2: compute the performance\r\n",
    "acc, prec, recall = evalClassificationV1(realLabels, computedLabels, ['spam', 'ham'])\r\n",
    "\r\n",
    "print('acc: ', acc, ' precision: ', prec, ' recall: ', recall)\r\n"
   ],
   "outputs": [
    {
     "output_type": "stream",
     "name": "stdout",
     "text": [
      "acc:  0.6666666666666666  precision:  [0.66666667 0.66666667]  recall:  [0.66666667 0.66666667]\n"
     ]
    }
   ],
   "metadata": {}
  },
  {
   "cell_type": "markdown",
   "source": [
    "## Temă"
   ],
   "metadata": {}
  },
  {
   "cell_type": "markdown",
   "source": [
    "\r\n",
    "1. sa se determine eroarea de predictie în cazul unei regresii multi-target: pe baza unor date de intrare (precum numarul de ridicari, sarituri, etc.) se doreste predicatia greutatii, taliei si pulsului persoanei care a realizat exrcitiile. Un algoritm de ML a prezis aceste valori. Se doreste calcularea calitatii acestor predictii. A se consulta datele din fisierul \"sport.csv\". \r\n",
    "\r\n",
    "<details>\r\n",
    "  <summary>Remember</summary>\r\n",
    "  \r\n",
    "\r\n",
    "> * Single-target regression: y = f(x1, x2, ..,xD) - a single real value is predicted based on D features (x1, x2, ..., xD) of an example\r\n",
    "> * Multi-target regression: (y1,y2, ..., yk) = [f1(x1, x2, ..,xD), f2(x1, x2, ..,xD), ..., fk(x1, x2, ..,xD)] - more real values are predicted based on D features (x1, x2, ..., xD) of an example\r\n",
    "\r\n",
    "> Problem specification:\r\n",
    "\r\n",
    "> * input: realOutputss, computedOutputss - $k$-dimensional arrays of the same length containing real values (two matrix of $k \\times noSamples$ elements, $k$ = number of output targets, $noSamples$ = no of samples/exampeles)\r\n",
    "\r\n",
    "> * output: prediction error - real value\r\n",
    "\r\n",
    "> Utilitate: <img src=\"images/objectDetection.png\" width=\"250\">\r\n",
    "\r\n",
    "> * de exemplu in cazul unui detector de obiecte in imagini (de exemplu detectorul Yolo): fiind date imagini cu diferite animale, sa se identifice unde apare animalul in fiecare imagine. In acest caz, localizarea obiectului poate fi reprezentata printr-un chenar ($bounding$ $box$). Deci algoritmul va trebui sa prezica coordonatele a 2 colturi opuse ale chenarului sau coordonatele unui colt, lungimea si latimea chenarului. \r\n",
    "\r\n",
    "</details>\r\n"
   ],
   "metadata": {}
  },
  {
   "cell_type": "markdown",
   "source": [
    "\r\n",
    "2. sa se determine acuratetea, precizia, rapelul în cazul unei clasificări multi-class: pe baza unor masuratori ale petalelor si sepalelor, se doreste predictia tipului de floare intr-un din clasele Daisy, Tulip, Rose. Se doreste calcularea calitatii acestor predictii. A se consulta datele din fisierul \"flowers.csv\". \r\n",
    "\r\n",
    "<details>\r\n",
    "  <summary>Remember</summary>\r\n",
    "  \r\n",
    "> * Binary classification: y = f(x1, x2, ..,xD) - a single binary label (y) is predicted based on D features (x1, x2, ..., xD) of an example\r\n",
    "\r\n",
    "> * Multi-class classification: y = f(x1, x2, ..,xD) - a single label (from a particular set of possible labels whose size > 2) is predicted based on D features (x1, x2, ..., xD) of an example\r\n",
    "\r\n",
    "> Problem specification:\r\n",
    "\r\n",
    "> * input: realLabels, computedLabels - one-dimensional arrays of the same length containing labels (two arrays of $noSamples$ labels from ${label_1, label_2, \\ldots, label_C}$, $noSamples$ = no of samples/exampeles)\r\n",
    "\r\n",
    "> * output: prediction quality expressed by accuracy, precison and recall.\r\n",
    "\r\n",
    "> Utilitate: <img src=\"images/multiClass.png\" width=\"100\">\r\n",
    "\r\n",
    "> * in clasificarea cifrelor scrise de mana avem 10 clase (cate o clasa pentru fiecare cifra), \r\n",
    "> * clasificarea tipurilor de obstacole in trafic (clasa pietonilor, clasa biciclistilor, clasa semnelor de circulatie, etc.)\r\n",
    "\r\n",
    "</details>"
   ],
   "metadata": {}
  },
  {
   "cell_type": "markdown",
   "source": [
    "\r\n",
    "## Temă opțională \r\n",
    "\r\n"
   ],
   "metadata": {}
  },
  {
   "cell_type": "markdown",
   "source": [
    "\r\n",
    "- sa se determine loss-ul (funcția de cost) în cazul problemelor de regresie \r\n",
    "- sa se determine loss-ul (funcția de cost) în cazul problemelor de clasificare binară cu output de tip probabilistic <img src=\"images/binClassProb.png\" width=\"200\">\r\n",
    "    - outputul clasificatorului este reprezentat ca o matrice cu $noSamples \\times 2$ valori reale subunitare; \r\n",
    "    - fiecare linie are suma elementelor 1, elementele reprezentand probabilitatile prezise pt fiecare din cele 2 clase).\r\n",
    "\r\n"
   ],
   "metadata": {}
  }
 ]
}
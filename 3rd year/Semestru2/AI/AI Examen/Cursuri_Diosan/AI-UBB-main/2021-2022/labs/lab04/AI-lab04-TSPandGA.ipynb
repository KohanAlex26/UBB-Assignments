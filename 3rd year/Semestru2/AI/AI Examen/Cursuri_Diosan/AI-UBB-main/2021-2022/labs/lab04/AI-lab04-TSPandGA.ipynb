{
 "nbformat": 4,
 "nbformat_minor": 2,
 "metadata": {
  "language_info": {
   "name": "python",
   "version": "3.7.2",
   "mimetype": "text/x-python",
   "codemirror_mode": {
    "name": "ipython",
    "version": 3
   },
   "pygments_lexer": "ipython3",
   "nbconvert_exporter": "python",
   "file_extension": ".py"
  },
  "orig_nbformat": 2,
  "file_extension": ".py",
  "mimetype": "text/x-python",
  "name": "python",
  "npconvert_exporter": "python",
  "pygments_lexer": "ipython3",
  "version": 3,
  "kernelspec": {
   "name": "python3",
   "display_name": "Python 3.7.2 64-bit ('myenv': venv)"
  },
  "interpreter": {
   "hash": "e9dc543f66030a8dac45661f55ca2fb15f567084184f0424c1f0b6ed578c96be"
  }
 },
 "cells": [
  {
   "cell_type": "markdown",
   "source": [
    "# Algoritmi evolutivi"
   ],
   "metadata": {}
  },
  {
   "cell_type": "markdown",
   "source": [
    "## Obiective\r\n",
    "- Formularea problemelor ca probleme de căutare şi identificarea modalităţilor de rezolvare a lor. \r\n",
    "- Specificarea, proiectarea şi implementarea metodelor de căutare bazate pe algoritmi evolutivi.\r\n",
    "\r\n",
    "## Cuvinte cheie\r\n",
    "- Algoritm Genetic\r\n",
    "- potentiala solutie, cromozom\r\n",
    "- fitness\r\n",
    "- operatori genetici (selectie, incrucisare, mutatie)"
   ],
   "metadata": {}
  },
  {
   "cell_type": "markdown",
   "source": [
    "## Aspecte teoretice"
   ],
   "metadata": {}
  },
  {
   "cell_type": "markdown",
   "source": [
    "### Optimization problems\r\n",
    "\r\n",
    "> Local optimization:  \r\n",
    "\r\n",
    ">> for a function $f:D\\to R$, $$D=[a_1,b_1]\\times [a_2,b_2]\\times \\ldots \\times [a_n,b_n],$$ find $x^*\\in D$,  such that $f(x^*)\\leq f(x)$ for all $x\\in D$\r\n",
    "\r\n",
    "<details>\r\n",
    "  <summary>Remember the theory behind optimisation problems</summary>\r\n",
    "\r\n",
    "- if D is continous => Continous optimisation problems, such as:\r\n",
    "    - Sphere function (uni-modal, convex function) $f:R^n\\rightarrow R$, $$f(x^1,\\ldots, x^n)=\\sum_{i=1}^n (x^i)^2$$ (unique optimum)\r\n",
    "\r\n",
    "    - Griewank function (uni-modal, non-convex function) $f:R^n\\rightarrow R$, $$f(x^1\\ldots, x^n)= 1 + \\sum_{i=1}^{n} (x^i)^2/4000 - \\prod_{i=1}^{n} \\cos(x^i)/\\sqrt(i)$$ \r\n",
    "\r\n",
    "    - Rastrigin function (multi-modal) $f:R^n\\rightarrow R$, $$f(x^1\\ldots, x^n)=10 n + \\sum_{i=1}^{n} ((x^i)^2 - 10 \\cos(2\\pi x^i))$$\r\n",
    "\r\n",
    "    - More details  [here](https://www.sfu.ca/~ssurjano/optimization.html)\r\n",
    "\r\n",
    "- if D is discrete => Discrete optimisation problems, such as:\r\n",
    "    - travelling salesman problem (TSP)\r\n",
    "    - knapsack problem \r\n",
    "\r\n",
    "</details>"
   ],
   "metadata": {}
  },
  {
   "cell_type": "markdown",
   "source": [
    "### Metodologia pentru rezolvarea unei probleme cu ajutorul algoritmilor evolutivi\r\n",
    "\r\n",
    "- analiza problemei si reprezentarea potentialelor solutii\r\n",
    "- definirea functiei de fitness\r\n",
    "- definirea operatorilor genetici (Selectie, incrucisare, mutatie)\r\n",
    "- stabilirea schemei evolutive (algoritm generational, steady-state, etc.)\r\n",
    "- alegerea solutiei optime\r\n",
    "\r\n"
   ],
   "metadata": {}
  },
  {
   "cell_type": "markdown",
   "source": [
    "## Exemple "
   ],
   "metadata": {}
  },
  {
   "cell_type": "markdown",
   "source": [
    "### Demo 1"
   ],
   "metadata": {}
  },
  {
   "cell_type": "markdown",
   "source": [
    "#### Problema\r\n",
    "\r\n",
    "Genrarea unei permutari random"
   ],
   "metadata": {}
  },
  {
   "cell_type": "code",
   "execution_count": 5,
   "source": [
    "from random import randint, seed\r\n",
    "\r\n",
    "\r\n",
    "def generateARandomPermutation(n):\r\n",
    "    perm = [i for i in range(n)]\r\n",
    "    pos1 = randint(0, n - 1)\r\n",
    "    pos2 = randint(0, n - 1)\r\n",
    "    perm[pos1], perm[pos2] = perm[pos2], perm[pos1]\r\n",
    "    return perm\r\n",
    "\r\n",
    "print(generateARandomPermutation(10))\r\n",
    "print(generateARandomPermutation(10))\r\n",
    "# if we fix the seed, we obtain the same results for all runs\r\n",
    "seed(5)\r\n",
    "print(generateARandomPermutation(10))\r\n",
    "print(generateARandomPermutation(10))\r\n"
   ],
   "outputs": [
    {
     "output_type": "stream",
     "name": "stdout",
     "text": [
      "[7, 1, 2, 3, 4, 5, 6, 0, 8, 9]\n",
      "[3, 1, 2, 0, 4, 5, 6, 7, 8, 9]\n",
      "[0, 1, 2, 3, 9, 5, 6, 7, 8, 4]\n",
      "[0, 1, 2, 3, 4, 8, 6, 7, 5, 9]\n"
     ]
    }
   ],
   "metadata": {}
  },
  {
   "cell_type": "markdown",
   "source": [
    "## Tema"
   ],
   "metadata": {}
  },
  {
   "cell_type": "markdown",
   "source": [
    "### Problema\r\n",
    "\r\n",
    "Să se identifice cel mai scurt drum care pleacă dintr-un nod, vizitează toate nodurile (fiecare nod este vizitat o singură dată) și revine în locația de start folosind un algoritm evolutiv. Se vor folosi:\r\n",
    "- informatii din lucrarea Gonen, B., & Louis, S. J. (2006). Genetic Algorithm finding the shortest path in Networks. Reno: University of Nevada [link](http://citeseerx.ist.psu.edu/viewdoc/download?doi=10.1.1.712.8445&rep=rep1&type=pdf)\r\n",
    "- reteaua sociala dezvoltata semestrul trecut la MAP (cu construirea in prealabil a grafului corespunzator ei)\r\n",
    "- exemplele din arhiva TSP.zip\r\n",
    "\r\n",
    "Aplicaţia (specificata, proiectata si implementata) trebuie să permită:\r\n",
    "-\tÎncărcarea datelor problemei \r\n",
    "-\tAlegerea şi parametrizarea metodei de rezolvare a problemei\r\n",
    "-\tAfişarea soluţiei identificate\r\n",
    "-\tPrecizarea performanţelor metodei de rezolvare alese\r\n",
    "\r\n",
    "Aplicația trebuie să respecte specificațiile privind datele de intrare și datele de ieșire.\r\n",
    "\r\n",
    "Aplicația va fi testată folosind date de difcultăți diferite (fiecare test validat având asociat un anumit punctaj).\r\n",
    "\r\n",
    "Datele de intrare sunt reprezentate de:\r\n",
    "-\tgraful retelei\r\n",
    "-\tparametrii algoritmului\r\n",
    "\r\n",
    "Datele de iesire sunt reprezentate de:\r\n",
    "-\tordinea in care trebuie vizitate nodurile pentru a obtine cel mai bun drum\r\n",
    "\r\n",
    "## 🏵️Cerinte optionale\r\n",
    "\r\n",
    "1. In cazul existentei mai multor solutii, precizati toate solutiile. Analizati diversitatea populatiei de potentiale solutii.\r\n",
    "\r\n",
    "2. Cum impacteaza metoda de rezolvare si solutia/solutiile identificate modificarea cerintei astfel: *Să se identifice cel mai scurt drum care pleacă dintr-un nod și revine în locația de start folosind un algoritm evolutiv.*"
   ],
   "metadata": {}
  }
 ]
}
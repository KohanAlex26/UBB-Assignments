{
 "nbformat": 4,
 "nbformat_minor": 2,
 "metadata": {
  "language_info": {
   "name": "python",
   "codemirror_mode": {
    "name": "ipython",
    "version": 3
   },
   "version": "3.7.2-final"
  },
  "orig_nbformat": 2,
  "file_extension": ".py",
  "mimetype": "text/x-python",
  "name": "python",
  "npconvert_exporter": "python",
  "pygments_lexer": "ipython3",
  "version": 3,
  "kernelspec": {
   "name": "python37264bitedb56840ffe443838fd0296dd77ff0fa",
   "display_name": "Python 3.7.2 64-bit"
  }
 },
 "cells": [
  {
   "cell_type": "markdown",
   "metadata": {},
   "source": [
    "GA for solving TSP problem\n"
   ]
  },
  {
   "cell_type": "code",
   "execution_count": 2,
   "metadata": {},
   "outputs": [],
   "source": [
    "from random import randint, seed\n",
    "\n",
    "\n",
    "def generateARandomPermutation(n):\n",
    "    perm = [i for i in range(n)]\n",
    "    pos1 = randint(0, n - 1)\n",
    "    pos2 = randint(0, n - 1)\n",
    "    perm[pos1], perm[pos2] = perm[pos2], perm[pos1]\n",
    "    return perm\n",
    "\n",
    "# permutation-based representation\n",
    "class Chromosome:\n",
    "    def __init__(self, problParam = None):\n",
    "        self.__problParam = problParam  #problParam has to store the number of nodes/cities\n",
    "        self.__repres = generateARandomPermutation(self.__problParam['noNodes'])\n",
    "        self.__fitness = 0.0\n",
    "    \n",
    "    @property\n",
    "    def repres(self):\n",
    "        return self.__repres \n",
    "    \n",
    "    @property\n",
    "    def fitness(self):\n",
    "        return self.__fitness \n",
    "    \n",
    "    @repres.setter\n",
    "    def repres(self, l = []):\n",
    "        self.__repres = l \n",
    "    \n",
    "    @fitness.setter \n",
    "    def fitness(self, fit = 0.0):\n",
    "        self.__fitness = fit \n",
    "    \n",
    "    def crossover(self, c):\n",
    "        # order XO\n",
    "        pos1 = randint(-1, self.__problParam['noNodes'] - 1)\n",
    "        pos2 = randint(-1, self.__problParam['noNodes'] - 1)\n",
    "        if (pos2 < pos1):\n",
    "            pos1, pos2 = pos2, pos1 \n",
    "        k = 0\n",
    "        newrepres = self.__repres[pos1 : pos2]\n",
    "        for el in c.__repres[pos2:] +c.__repres[:pos2]:\n",
    "            if (el not in newrepres):\n",
    "                if (len(newrepres) < self.__problParam['noNodes'] - pos1):\n",
    "                    newrepres.append(el)\n",
    "                else:\n",
    "                    newrepres.insert(k, el)\n",
    "                    k += 1\n",
    "\n",
    "        offspring = Chromosome(self.__problParam)\n",
    "        offspring.repres = newrepres\n",
    "        return offspring\n",
    "    \n",
    "    def mutation(self):\n",
    "        # insert mutation\n",
    "        pos1 = randint(0, self.__problParam['noNodes'] - 1)\n",
    "        pos2 = randint(0, self.__problParam['noNodes'] - 1)\n",
    "        if (pos2 < pos1):\n",
    "            pos1, pos2 = pos2, pos1\n",
    "        el = self.__repres[pos2]\n",
    "        del self.__repres[pos2]\n",
    "        self.__repres.insert(pos1 + 1, el)\n",
    "        \n",
    "    def __str__(self):\n",
    "        return \"\\nChromo: \" + str(self.__repres) + \" has fit: \" + str(self.__fitness)\n",
    "    \n",
    "    def __repr__(self):\n",
    "        return self.__str__()\n",
    "    \n",
    "    def __eq__(self, c):\n",
    "        return self.__repres == c.__repres and self.__fitness == c.__fitness\n",
    "\n",
    "\n"
   ]
  },
  {
   "cell_type": "code",
   "execution_count": 8,
   "metadata": {},
   "outputs": [
    {
     "name": "stdout",
     "output_type": "stream",
     "text": "parent1:  \nChromo: [0, 1, 2, 3, 4, 5, 6, 7, 8, 9] has fit: 0.0\nparent2:  \nChromo: [0, 1, 2, 9, 4, 5, 6, 7, 8, 3] has fit: 0.0\noffspring:  \nChromo: [6, 7, 8, 3, 0, 1, 2, 9, 4, 5] has fit: 0.0\n"
    }
   ],
   "source": [
    "def pseudoTestXO():\n",
    "    # seed(5)\n",
    "    problParam = {'noNodes' : 10}\n",
    "    c1 = Chromosome(problParam)\n",
    "    c2 = Chromosome(problParam)\n",
    "    print('parent1: ', c1)\n",
    "    print('parent2: ', c2)\n",
    "    off = c1.crossover(c2)\n",
    "    print('offspring: ', off)\n",
    "    \n",
    "\n",
    "pseudoTestXO()"
   ]
  },
  {
   "cell_type": "code",
   "execution_count": 9,
   "metadata": {},
   "outputs": [
    {
     "name": "stdout",
     "output_type": "stream",
     "text": "before mutation:  \nChromo: [0, 1, 2, 8, 4, 5, 6, 7, 3, 9] has fit: 0.0\nafter mutation:  \nChromo: [0, 1, 2, 8, 4, 5, 3, 6, 7, 9] has fit: 0.0\n"
    }
   ],
   "source": [
    "def pseudoTestMutation():\n",
    "    problParam = {'noNodes' : 10}\n",
    "    c1 = Chromosome(problParam)\n",
    "    print('before mutation: ', c1)\n",
    "    c1.mutation()\n",
    "    print('after mutation: ', c1)\n",
    "\n",
    "pseudoTestMutation()"
   ]
  }
 ]
}

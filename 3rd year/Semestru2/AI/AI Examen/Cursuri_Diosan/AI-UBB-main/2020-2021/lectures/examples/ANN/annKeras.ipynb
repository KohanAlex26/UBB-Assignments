{
  "cells": [
    {
      "cell_type": "code",
      "metadata": {
        "id": "wYPtaNt_UsA1",
        "colab_type": "code",
        "colab": {}
      },
      "source": [
        "import tensorflow as tf"
      ],
      "execution_count": 0,
      "outputs": []
    },
    {
      "cell_type": "code",
      "metadata": {
        "id": "fuv_vsZULIwS",
        "colab_type": "code",
        "colab": {}
      },
      "source": [
        "from sklearn.preprocessing import StandardScaler\n",
        "from math import sqrt\n",
        "\n",
        "def normalisation(trainData, testData):\n",
        "    scaler = StandardScaler()\n",
        "    if not isinstance(trainData[0], list):\n",
        "        #encode each sample into a list\n",
        "        trainData = [[d] for d in trainData]\n",
        "        testData = [[d] for d in testData]\n",
        "        \n",
        "        scaler.fit(trainData)  #  fit only on training data\n",
        "        normalisedTrainData = scaler.transform(trainData) # apply same transformation to train data\n",
        "        normalisedTestData = scaler.transform(testData)  # apply same transformation to test data\n",
        "        \n",
        "        #decode from list to raw values\n",
        "        normalisedTrainData = [el[0] for el in normalisedTrainData]\n",
        "        normalisedTestData = [el[0] for el in normalisedTestData]\n",
        "    else:\n",
        "        scaler.fit(trainData)  #  fit only on training data\n",
        "        normalisedTrainData = scaler.transform(trainData) # apply same transformation to train data\n",
        "        normalisedTestData = scaler.transform(testData)  # apply same transformation to test data\n",
        "    return normalisedTrainData, normalisedTestData\n",
        "    "
      ],
      "execution_count": 0,
      "outputs": []
    },
    {
      "cell_type": "code",
      "metadata": {
        "id": "178VekCPVirA",
        "colab_type": "code",
        "colab": {}
      },
      "source": [
        "from sklearn.utils import shuffle\n",
        "from sklearn.datasets import load_iris\n",
        "irisDataset = load_iris()\n",
        "\n",
        "irisData, irisLabels = shuffle(irisDataset.data, irisDataset.target)\n",
        "oneHotLabels = tf.keras.utils.to_categorical(irisLabels, 3)\n",
        "irisLabels = oneHotLabels\n",
        "\n",
        "trainSize = int(0.8 * len(irisData))\n",
        "irisTrainData = irisData[:trainSize]\n",
        "irisTrainLabels = irisLabels[:trainSize]\n",
        "\n",
        "irisValidationData = irisData[trainSize:]\n",
        "irisValidationLabels = irisLabels[trainSize:]\n",
        "\n",
        "from sklearn.preprocessing import StandardScaler\n",
        "scaler = StandardScaler()\n",
        "scaler.fit(irisTrainData)\n",
        "irisTrainData = scaler.transform(irisTrainData)\n",
        "irisValidationData = scaler.transform(irisValidationData)\n"
      ],
      "execution_count": 0,
      "outputs": []
    },
    {
      "cell_type": "code",
      "metadata": {
        "id": "nE3H2mbEDUqx",
        "colab_type": "code",
        "outputId": "8784492e-d00c-46ea-9ca4-4027a38774c8",
        "colab": {
          "base_uri": "https://localhost:8080/",
          "height": 644
        }
      },
      "source": [
        "model = tf.keras.Sequential([\n",
        "  tf.keras.layers.Dense(2, input_dim = 4, activation = tf.nn.relu),\n",
        "  tf.keras.layers.Dense(3, activation=tf.nn.softmax),\n",
        "])\n",
        "\n",
        "model.compile(optimizer=tf.keras.optimizers.SGD(),\n",
        "               loss=tf.keras.losses.CategoricalCrossentropy(),\n",
        "               metrics=['accuracy'])\n",
        "model.summary()\n",
        "\n",
        "print('# Fit model on training data ')\n",
        "history = model.fit(irisTrainData, irisTrainLabels, batch_size=10, epochs=10)\n",
        "print('\\nhistory dict:', history.history)"
      ],
      "execution_count": 88,
      "outputs": [
        {
          "output_type": "stream",
          "text": [
            "Model: \"sequential_40\"\n",
            "_________________________________________________________________\n",
            "Layer (type)                 Output Shape              Param #   \n",
            "=================================================================\n",
            "dense_87 (Dense)             (None, 2)                 10        \n",
            "_________________________________________________________________\n",
            "dense_88 (Dense)             (None, 3)                 9         \n",
            "=================================================================\n",
            "Total params: 19\n",
            "Trainable params: 19\n",
            "Non-trainable params: 0\n",
            "_________________________________________________________________\n",
            "# Fit model on training data \n",
            "Epoch 1/10\n",
            "12/12 [==============================] - 0s 1ms/step - loss: 1.0935 - accuracy: 0.4333\n",
            "Epoch 2/10\n",
            "12/12 [==============================] - 0s 1ms/step - loss: 1.0569 - accuracy: 0.5000\n",
            "Epoch 3/10\n",
            "12/12 [==============================] - 0s 1ms/step - loss: 1.0248 - accuracy: 0.5583\n",
            "Epoch 4/10\n",
            "12/12 [==============================] - 0s 1ms/step - loss: 0.9946 - accuracy: 0.6500\n",
            "Epoch 5/10\n",
            "12/12 [==============================] - 0s 1ms/step - loss: 0.9676 - accuracy: 0.6667\n",
            "Epoch 6/10\n",
            "12/12 [==============================] - 0s 1ms/step - loss: 0.9410 - accuracy: 0.7167\n",
            "Epoch 7/10\n",
            "12/12 [==============================] - 0s 1ms/step - loss: 0.9141 - accuracy: 0.7500\n",
            "Epoch 8/10\n",
            "12/12 [==============================] - 0s 1ms/step - loss: 0.8881 - accuracy: 0.7500\n",
            "Epoch 9/10\n",
            "12/12 [==============================] - 0s 1ms/step - loss: 0.8626 - accuracy: 0.7750\n",
            "Epoch 10/10\n",
            "12/12 [==============================] - 0s 1ms/step - loss: 0.8374 - accuracy: 0.7917\n",
            "\n",
            "history dict: {'loss': [1.0935248136520386, 1.056907057762146, 1.0248489379882812, 0.9946410655975342, 0.9676133990287781, 0.9409933686256409, 0.914093554019928, 0.8880672454833984, 0.8625567555427551, 0.8373876214027405], 'accuracy': [0.4333333373069763, 0.5, 0.5583333373069763, 0.6499999761581421, 0.6666666865348816, 0.7166666388511658, 0.75, 0.75, 0.7749999761581421, 0.7916666865348816]}\n"
          ],
          "name": "stdout"
        }
      ]
    },
    {
      "cell_type": "code",
      "metadata": {
        "id": "qqZyyJ_5GRUH",
        "colab_type": "code",
        "colab": {
          "base_uri": "https://localhost:8080/",
          "height": 364
        },
        "outputId": "300825d7-d608-4e30-f8c4-dd08ee9a755d"
      },
      "source": [
        "model2 = tf.keras.Sequential([\n",
        "  tf.keras.layers.Dense(2, input_dim = 4, activation = tf.nn.relu),\n",
        "  tf.keras.layers.Dense(8, activation = tf.nn.relu),\n",
        "  tf.keras.layers.Dense(3, activation=tf.nn.softmax),\n",
        "])\n",
        "\n",
        "model2.compile(optimizer=tf.keras.optimizers.SGD(),\n",
        "               loss=tf.keras.losses.CategoricalCrossentropy(),\n",
        "               metrics=['accuracy'])\n",
        "history2 = model2.fit(irisTrainData, irisTrainLabels, batch_size=10, epochs=10)"
      ],
      "execution_count": 89,
      "outputs": [
        {
          "output_type": "stream",
          "text": [
            "Epoch 1/10\n",
            "12/12 [==============================] - 0s 1ms/step - loss: 1.0448 - accuracy: 0.4333\n",
            "Epoch 2/10\n",
            "12/12 [==============================] - 0s 1ms/step - loss: 1.0310 - accuracy: 0.5250\n",
            "Epoch 3/10\n",
            "12/12 [==============================] - 0s 1ms/step - loss: 1.0167 - accuracy: 0.5583\n",
            "Epoch 4/10\n",
            "12/12 [==============================] - 0s 1ms/step - loss: 1.0013 - accuracy: 0.6083\n",
            "Epoch 5/10\n",
            "12/12 [==============================] - 0s 1ms/step - loss: 0.9853 - accuracy: 0.6167\n",
            "Epoch 6/10\n",
            "12/12 [==============================] - 0s 1ms/step - loss: 0.9683 - accuracy: 0.6333\n",
            "Epoch 7/10\n",
            "12/12 [==============================] - 0s 1ms/step - loss: 0.9501 - accuracy: 0.6500\n",
            "Epoch 8/10\n",
            "12/12 [==============================] - 0s 1ms/step - loss: 0.9315 - accuracy: 0.6583\n",
            "Epoch 9/10\n",
            "12/12 [==============================] - 0s 1ms/step - loss: 0.9126 - accuracy: 0.6750\n",
            "Epoch 10/10\n",
            "12/12 [==============================] - 0s 1ms/step - loss: 0.8932 - accuracy: 0.6833\n"
          ],
          "name": "stdout"
        }
      ]
    },
    {
      "cell_type": "code",
      "metadata": {
        "id": "IWK19vz05AmD",
        "colab_type": "code",
        "colab": {
          "base_uri": "https://localhost:8080/",
          "height": 297
        },
        "outputId": "9f451c56-feea-42fa-b4f5-4a85e8ca8465"
      },
      "source": [
        "import matplotlib.pyplot as plt\n",
        "\n",
        "loss1, = plt.plot(history.history['loss'], label = 'loss model1')\n",
        "acc1, = plt.plot(history.history['accuracy'], label = 'acc model1')\n",
        "\n",
        "loss2, = plt.plot(history2.history['loss'], label = 'loss model2')\n",
        "acc2, = plt.plot(history2.history['accuracy'], label = 'acc model2')\n",
        "plt.legend([loss1, (loss1, acc1), (loss1, acc1, loss2), (loss1, acc1, loss2, acc2)], ['Loss model1', 'Acc model1', 'Loss model2', 'Acc model2'])\n",
        "plt.xlabel('Batch #')\n",
        "plt.ylabel('Loss & acc for training')\n"
      ],
      "execution_count": 90,
      "outputs": [
        {
          "output_type": "execute_result",
          "data": {
            "text/plain": [
              "Text(0, 0.5, 'Loss & acc')"
            ]
          },
          "metadata": {
            "tags": []
          },
          "execution_count": 90
        },
        {
          "output_type": "display_data",
          "data": {
            "image/png": "[encoded data removed]",
            "text/plain": [
              "<Figure size 432x288 with 1 Axes>"
            ]
          },
          "metadata": {
            "tags": [],
            "needs_background": "light"
          }
        }
      ]
    },
    {
      "cell_type": "code",
      "metadata": {
        "id": "PMakzBkmIma6",
        "colab_type": "code",
        "colab": {
          "base_uri": "https://localhost:8080/",
          "height": 52
        },
        "outputId": "fb52ec8c-452d-4338-fab3-14f0074b34b9"
      },
      "source": [
        "validationLoss1, validationAcc1 = model.evaluate(irisValidationData, irisValidationLabels, verbose=2)\n",
        "validationLoss2, validationAcc2 = model2.evaluate(irisValidationData, irisValidationLabels, verbose=2)\n"
      ],
      "execution_count": 91,
      "outputs": [
        {
          "output_type": "stream",
          "text": [
            "1/1 - 0s - loss: 0.7677 - accuracy: 0.9000\n",
            "1/1 - 0s - loss: 0.8057 - accuracy: 0.8000\n"
          ],
          "name": "stdout"
        }
      ]
    },
    {
      "cell_type": "code",
      "metadata": {
        "id": "vPhTiqgqKM4x",
        "colab_type": "code",
        "colab": {
          "base_uri": "https://localhost:8080/",
          "height": 589
        },
        "outputId": "46930b27-6f44-41c7-f06f-3502cf8a3235"
      },
      "source": [
        "# CNN example\n",
        "\n",
        "# load data\n",
        "mnist = tf.keras.datasets.mnist\n",
        "(trainImages, trainLabels), (validationImages, validationLabels) = mnist.load_data()\n",
        "\n",
        "# normalise\n",
        "trainImages, validationImages = trainImages / 255, validationImages / 255\n",
        "\n",
        "# transform labels into one-hot encoding\n",
        "trainLabels1hot = tf.keras.utils.to_categorical(trainLabels, 10)\n",
        "validationLabels1hot = tf.keras.utils.to_categorical(validationLabels, 10)\n",
        "\n",
        "\n",
        "class_names = ['0', '1', '2', '3', '4', '5', '6', '7', '8', '9']\n",
        "plt.figure(figsize=(10,10))\n",
        "for i in range(25):\n",
        "    plt.subplot(5,5,i+1)\n",
        "    plt.xticks([])\n",
        "    plt.yticks([])\n",
        "    plt.grid(False)\n",
        "    plt.imshow(trainImages[i], cmap=plt.cm.binary)\n",
        "    plt.xlabel(class_names[trainLabels[i]])\n",
        "plt.show()\n"
      ],
      "execution_count": 107,
      "outputs": [
        {
          "output_type": "display_data",
          "data": {
            "image/png": "[encoded data removed]",
            "text/plain": [
              "<Figure size 720x720 with 25 Axes>"
            ]
          },
          "metadata": {
            "tags": []
          }
        }
      ]
    },
    {
      "cell_type": "code",
      "metadata": {
        "id": "SkRpc-iEKWl6",
        "colab_type": "code",
        "colab": {
          "base_uri": "https://localhost:8080/",
          "height": 641
        },
        "outputId": "c0a9da88-eaa5-4a4b-9ef1-6a5ad671ee18"
      },
      "source": [
        "modelANN = tf.keras.Sequential([\n",
        "    tf.keras.layers.Flatten(input_shape=(28, 28)),\n",
        "    tf.keras.layers.Dense(128, activation='relu'),\n",
        "    tf.keras.layers.Dense(32, activation='relu'),\n",
        "    tf.keras.layers.Dense(10, activation='softmax')\n",
        "])\n",
        "\n",
        "modelANN.summary()\n",
        "\n",
        "modelANN.compile(optimizer=tf.keras.optimizers.SGD(),\n",
        "               loss=tf.keras.losses.CategoricalCrossentropy(),\n",
        "               metrics=['accuracy'])\n",
        "historyANN = modelANN.fit(trainImages, trainLabels1hot, batch_size=128, epochs=10)"
      ],
      "execution_count": 169,
      "outputs": [
        {
          "output_type": "stream",
          "text": [
            "Model: \"sequential_93\"\n",
            "_________________________________________________________________\n",
            "Layer (type)                 Output Shape              Param #   \n",
            "=================================================================\n",
            "flatten_43 (Flatten)         (None, 784)               0         \n",
            "_________________________________________________________________\n",
            "dense_190 (Dense)            (None, 128)               100480    \n",
            "_________________________________________________________________\n",
            "dense_191 (Dense)            (None, 32)                4128      \n",
            "_________________________________________________________________\n",
            "dense_192 (Dense)            (None, 10)                330       \n",
            "=================================================================\n",
            "Total params: 104,938\n",
            "Trainable params: 104,938\n",
            "Non-trainable params: 0\n",
            "_________________________________________________________________\n",
            "Epoch 1/10\n",
            "469/469 [==============================] - 1s 3ms/step - loss: 1.3553 - accuracy: 0.6321\n",
            "Epoch 2/10\n",
            "469/469 [==============================] - 1s 3ms/step - loss: 0.5515 - accuracy: 0.8579\n",
            "Epoch 3/10\n",
            "469/469 [==============================] - 1s 3ms/step - loss: 0.4170 - accuracy: 0.8850\n",
            "Epoch 4/10\n",
            "469/469 [==============================] - 1s 3ms/step - loss: 0.3636 - accuracy: 0.8974\n",
            "Epoch 5/10\n",
            "469/469 [==============================] - 1s 3ms/step - loss: 0.3323 - accuracy: 0.9046\n",
            "Epoch 6/10\n",
            "469/469 [==============================] - 1s 3ms/step - loss: 0.3095 - accuracy: 0.9105\n",
            "Epoch 7/10\n",
            "469/469 [==============================] - 1s 3ms/step - loss: 0.2919 - accuracy: 0.9160\n",
            "Epoch 8/10\n",
            "469/469 [==============================] - 1s 3ms/step - loss: 0.2769 - accuracy: 0.9204\n",
            "Epoch 9/10\n",
            "469/469 [==============================] - 1s 3ms/step - loss: 0.2639 - accuracy: 0.9243\n",
            "Epoch 10/10\n",
            "469/469 [==============================] - 1s 3ms/step - loss: 0.2523 - accuracy: 0.9276\n"
          ],
          "name": "stdout"
        }
      ]
    },
    {
      "cell_type": "code",
      "metadata": {
        "id": "s7c0p13izzCz",
        "colab_type": "code",
        "colab": {
          "base_uri": "https://localhost:8080/",
          "height": 780
        },
        "outputId": "d498fb3a-15b6-4e60-9916-1ed601c00903"
      },
      "source": [
        "# input image dimensions\n",
        "img_rows, img_cols = 28, 28\n",
        "trainImages = trainImages.reshape(trainImages.shape[0], img_rows, img_cols, 1)\n",
        "validationImages = validationImages.reshape(validationImages.shape[0], img_rows, img_cols, 1)\n",
        "input_shape = (img_rows, img_cols, 1)\n",
        "\n",
        "modelCNN = tf.keras.Sequential([\n",
        "      tf.keras.layers.Conv2D(32, (3, 3), activation='relu', input_shape=(28, 28, 1)),\n",
        "      tf.keras.layers.Conv2D(64, (3, 3), activation='relu'),\n",
        "      tf.keras.layers.MaxPooling2D(pool_size=(2,2)),\n",
        "      tf.keras.layers.Dropout(0.25),\n",
        "      tf.keras.layers.Flatten(),\n",
        "      tf.keras.layers.Dense(128, activation='relu'),\n",
        "      tf.keras.layers.Dropout(0.5),\n",
        "      tf.keras.layers.Dense(10, activation='softmax')\n",
        "])\n",
        "\n",
        "modelCNN.summary()\n",
        "\n",
        "modelCNN.compile(optimizer=tf.keras.optimizers.SGD(),\n",
        "               loss=tf.keras.losses.CategoricalCrossentropy(),\n",
        "               metrics=['accuracy'])\n",
        "\n",
        "historyCNN = modelCNN.fit(trainImages, trainLabels1hot, batch_size=128, epochs=10)"
      ],
      "execution_count": 167,
      "outputs": [
        {
          "output_type": "stream",
          "text": [
            "Model: \"sequential_91\"\n",
            "_________________________________________________________________\n",
            "Layer (type)                 Output Shape              Param #   \n",
            "=================================================================\n",
            "conv2d_77 (Conv2D)           (None, 26, 26, 32)        320       \n",
            "_________________________________________________________________\n",
            "conv2d_78 (Conv2D)           (None, 24, 24, 64)        18496     \n",
            "_________________________________________________________________\n",
            "max_pooling2d_36 (MaxPooling (None, 12, 12, 64)        0         \n",
            "_________________________________________________________________\n",
            "dropout_10 (Dropout)         (None, 12, 12, 64)        0         \n",
            "_________________________________________________________________\n",
            "flatten_41 (Flatten)         (None, 9216)              0         \n",
            "_________________________________________________________________\n",
            "dense_185 (Dense)            (None, 128)               1179776   \n",
            "_________________________________________________________________\n",
            "dropout_11 (Dropout)         (None, 128)               0         \n",
            "_________________________________________________________________\n",
            "dense_186 (Dense)            (None, 10)                1290      \n",
            "=================================================================\n",
            "Total params: 1,199,882\n",
            "Trainable params: 1,199,882\n",
            "Non-trainable params: 0\n",
            "_________________________________________________________________\n",
            "Epoch 1/10\n",
            "469/469 [==============================] - 135s 289ms/step - loss: 1.0480 - accuracy: 0.6678\n",
            "Epoch 2/10\n",
            "469/469 [==============================] - 138s 295ms/step - loss: 0.4497 - accuracy: 0.8621\n",
            "Epoch 3/10\n",
            "469/469 [==============================] - 136s 289ms/step - loss: 0.3690 - accuracy: 0.8874\n",
            "Epoch 4/10\n",
            "469/469 [==============================] - 136s 289ms/step - loss: 0.3260 - accuracy: 0.9012\n",
            "Epoch 5/10\n",
            "469/469 [==============================] - 136s 290ms/step - loss: 0.3031 - accuracy: 0.9090\n",
            "Epoch 6/10\n",
            "469/469 [==============================] - 136s 291ms/step - loss: 0.2810 - accuracy: 0.9152\n",
            "Epoch 7/10\n",
            "469/469 [==============================] - 139s 297ms/step - loss: 0.2654 - accuracy: 0.9210\n",
            "Epoch 8/10\n",
            "469/469 [==============================] - 136s 290ms/step - loss: 0.2526 - accuracy: 0.9242\n",
            "Epoch 9/10\n",
            "469/469 [==============================] - 136s 291ms/step - loss: 0.2392 - accuracy: 0.9280\n",
            "Epoch 10/10\n",
            "469/469 [==============================] - 136s 289ms/step - loss: 0.2303 - accuracy: 0.9301\n"
          ],
          "name": "stdout"
        }
      ]
    },
    {
      "cell_type": "code",
      "metadata": {
        "id": "Qnso7WQ8zI61",
        "colab_type": "code",
        "colab": {
          "base_uri": "https://localhost:8080/",
          "height": 299
        },
        "outputId": "a3bbb765-db29-4edf-df2e-1577739985c7"
      },
      "source": [
        "import matplotlib.pyplot as plt\n",
        "\n",
        "loss1, = plt.plot(historyANN.history['loss'], label = 'loss ANN')\n",
        "acc1, = plt.plot(historyANN.history['accuracy'], label = 'acc ANN')\n",
        "\n",
        "loss2, = plt.plot(historyCNN.history['loss'], label = 'loss CNN')\n",
        "acc2, = plt.plot(historyCNN.history['accuracy'], label = 'acc CNN')\n",
        "plt.legend([loss1, (loss1, acc1), (loss1, acc1, loss2), (loss1, acc1, loss2, acc2)], ['Loss ANN', 'Acc ANN', 'Loss CNN', 'Acc CNN'])\n",
        "plt.xlabel('Batch #')\n",
        "plt.ylabel('Loss & acc of training')"
      ],
      "execution_count": 170,
      "outputs": [
        {
          "output_type": "execute_result",
          "data": {
            "text/plain": [
              "Text(0, 0.5, 'Loss & acc')"
            ]
          },
          "metadata": {
            "tags": []
          },
          "execution_count": 170
        },
        {
          "output_type": "display_data",
          "data": {
            "image/png": "[encoded data removed]",
            "text/plain": [
              "<Figure size 432x288 with 1 Axes>"
            ]
          },
          "metadata": {
            "tags": [],
            "needs_background": "light"
          }
        }
      ]
    }
  ],
  "metadata": {
    "colab": {
      "name": "annKeras.ipynb",
      "provenance": [],
      "collapsed_sections": []
    },
    "kernelspec": {
      "name": "python3",
      "display_name": "Python 3"
    }
  },
  "nbformat": 4,
  "nbformat_minor": 0
}